{
 "cells": [
  {
   "cell_type": "markdown",
   "metadata": {},
   "source": [
    "# Compare Paris and Berlin Neighbourhoods"
   ]
  },
  {
   "cell_type": "code",
   "execution_count": 1,
   "metadata": {},
   "outputs": [],
   "source": [
    "import pandas as pd\n",
    "pd.set_option('display.max_columns', None)\n",
    "pd.set_option('display.max_rows', None)\n",
    "pd.set_option('display.max_colwidth', None)"
   ]
  },
  {
   "cell_type": "markdown",
   "metadata": {},
   "source": [
    "### Get list of Paris quarters from Wikipedia"
   ]
  },
  {
   "cell_type": "code",
   "execution_count": 2,
   "metadata": {},
   "outputs": [
    {
     "name": "stdout",
     "output_type": "stream",
     "text": [
      "--2020-03-11 16:09:19--  https://en.wikipedia.org/wiki/Quarters_of_Paris\n",
      "Resolving en.wikipedia.org (en.wikipedia.org)... 208.80.154.224, 2620:0:861:ed1a::1\n",
      "Connecting to en.wikipedia.org (en.wikipedia.org)|208.80.154.224|:443... connected.\n",
      "HTTP request sent, awaiting response... 200 OK\n",
      "Length: 71562 (70K) [text/html]\n",
      "Saving to: ‘paris_quartiers.html’\n",
      "\n",
      "paris_quartiers.htm 100%[===================>]  69.88K  --.-KB/s    in 0.06s   \n",
      "\n",
      "2020-03-11 16:09:19 (1.23 MB/s) - ‘paris_quartiers.html’ saved [71562/71562]\n",
      "\n"
     ]
    }
   ],
   "source": [
    "# download wiki page for scraping\n",
    "!wget -O paris_quartiers.html https://en.wikipedia.org/wiki/Quarters_of_Paris"
   ]
  },
  {
   "cell_type": "code",
   "execution_count": 3,
   "metadata": {},
   "outputs": [
    {
     "name": "stdout",
     "output_type": "stream",
     "text": [
      "Requirement already satisfied: beautifulsoup4 in /home/jupyterlab/conda/envs/python/lib/python3.6/site-packages (4.8.2)\n",
      "Requirement already satisfied: soupsieve>=1.2 in /home/jupyterlab/conda/envs/python/lib/python3.6/site-packages (from beautifulsoup4) (2.0)\n"
     ]
    }
   ],
   "source": [
    "!pip install beautifulsoup4"
   ]
  },
  {
   "cell_type": "code",
   "execution_count": 4,
   "metadata": {
    "scrolled": true
   },
   "outputs": [],
   "source": [
    "from bs4 import BeautifulSoup\n",
    "\n",
    "# parse the html file\n",
    "with open('paris_quartiers.html','r') as html_doc:\n",
    "    soup = BeautifulSoup(html_doc, 'html.parser')\n",
    "\n",
    "#print(soup.prettify())"
   ]
  },
  {
   "cell_type": "code",
   "execution_count": 5,
   "metadata": {},
   "outputs": [
    {
     "data": {
      "text/html": [
       "<div>\n",
       "<style scoped>\n",
       "    .dataframe tbody tr th:only-of-type {\n",
       "        vertical-align: middle;\n",
       "    }\n",
       "\n",
       "    .dataframe tbody tr th {\n",
       "        vertical-align: top;\n",
       "    }\n",
       "\n",
       "    .dataframe thead th {\n",
       "        text-align: right;\n",
       "    }\n",
       "</style>\n",
       "<table border=\"1\" class=\"dataframe\">\n",
       "  <thead>\n",
       "    <tr style=\"text-align: right;\">\n",
       "      <th></th>\n",
       "      <th>quarter</th>\n",
       "      <th>postcode</th>\n",
       "    </tr>\n",
       "  </thead>\n",
       "  <tbody>\n",
       "    <tr>\n",
       "      <th>0</th>\n",
       "      <td>Saint-Germain-l'Auxerrois</td>\n",
       "      <td>75001</td>\n",
       "    </tr>\n",
       "    <tr>\n",
       "      <th>1</th>\n",
       "      <td>Les Halles</td>\n",
       "      <td>75001</td>\n",
       "    </tr>\n",
       "    <tr>\n",
       "      <th>2</th>\n",
       "      <td>Palais-Royal</td>\n",
       "      <td>75001</td>\n",
       "    </tr>\n",
       "    <tr>\n",
       "      <th>3</th>\n",
       "      <td>Place-Vendôme</td>\n",
       "      <td>75001</td>\n",
       "    </tr>\n",
       "    <tr>\n",
       "      <th>4</th>\n",
       "      <td>Gaillon</td>\n",
       "      <td>75002</td>\n",
       "    </tr>\n",
       "    <tr>\n",
       "      <th>5</th>\n",
       "      <td>Vivienne</td>\n",
       "      <td>75002</td>\n",
       "    </tr>\n",
       "    <tr>\n",
       "      <th>6</th>\n",
       "      <td>Mail</td>\n",
       "      <td>75002</td>\n",
       "    </tr>\n",
       "    <tr>\n",
       "      <th>7</th>\n",
       "      <td>Bonne-Nouvelle</td>\n",
       "      <td>75002</td>\n",
       "    </tr>\n",
       "    <tr>\n",
       "      <th>8</th>\n",
       "      <td>Arts-et-Métiers</td>\n",
       "      <td>75003</td>\n",
       "    </tr>\n",
       "    <tr>\n",
       "      <th>9</th>\n",
       "      <td>Enfants-Rouges</td>\n",
       "      <td>75003</td>\n",
       "    </tr>\n",
       "  </tbody>\n",
       "</table>\n",
       "</div>"
      ],
      "text/plain": [
       "                     quarter  postcode\n",
       "0  Saint-Germain-l'Auxerrois     75001\n",
       "1                 Les Halles     75001\n",
       "2               Palais-Royal     75001\n",
       "3              Place-Vendôme     75001\n",
       "4                    Gaillon     75002\n",
       "5                   Vivienne     75002\n",
       "6                       Mail     75002\n",
       "7             Bonne-Nouvelle     75002\n",
       "8            Arts-et-Métiers     75003\n",
       "9             Enfants-Rouges     75003"
      ]
     },
     "execution_count": 5,
     "metadata": {},
     "output_type": "execute_result"
    }
   ],
   "source": [
    "# create a dataframe from the html file\n",
    "df_paris = pd.DataFrame()\n",
    "arrondissement = \"\"\n",
    "\n",
    "for tr in soup.tbody.find_all('tr'):\n",
    "    row = tr.text.split('\\n')\n",
    "    row = list(filter(lambda a: a != '', row)) # remove all empty strings from list\n",
    "\n",
    "    if len(row)==5:\n",
    "        arrondissement = ''.join(filter(lambda i: i.isdigit(), row[0].split()[0]))\n",
    "        quartier = row[2]\n",
    "    elif len(row)==4:\n",
    "        quartier = row[1]\n",
    "    else:\n",
    "        print(\"Warning!! Row not added to dataframe. row length={}\".format(len(row)))\n",
    "\n",
    "    df_paris = df_paris.append([[quartier, arrondissement]])\n",
    "\n",
    "df_paris.reset_index(drop=True, inplace=True)\n",
    "df_paris.drop(index=0, inplace=True)\n",
    "\n",
    "df_paris.columns=['quarter', 'postcode']\n",
    "df_paris.postcode = df_paris.postcode.astype(int) + 75000\n",
    "df_paris.reset_index(drop=True, inplace=True)\n",
    "\n",
    "df_paris.head(10)"
   ]
  },
  {
   "cell_type": "code",
   "execution_count": 6,
   "metadata": {},
   "outputs": [
    {
     "name": "stdout",
     "output_type": "stream",
     "text": [
      "<class 'pandas.core.frame.DataFrame'>\n",
      "RangeIndex: 80 entries, 0 to 79\n",
      "Data columns (total 2 columns):\n",
      " #   Column    Non-Null Count  Dtype \n",
      "---  ------    --------------  ----- \n",
      " 0   quarter   80 non-null     object\n",
      " 1   postcode  80 non-null     int64 \n",
      "dtypes: int64(1), object(1)\n",
      "memory usage: 1.4+ KB\n"
     ]
    }
   ],
   "source": [
    "df_paris.info()"
   ]
  },
  {
   "cell_type": "markdown",
   "metadata": {},
   "source": [
    "### Get geospatial coordinates for each quarter"
   ]
  },
  {
   "cell_type": "code",
   "execution_count": null,
   "metadata": {},
   "outputs": [],
   "source": [
    "!pip install geopy"
   ]
  },
  {
   "cell_type": "code",
   "execution_count": 22,
   "metadata": {},
   "outputs": [
    {
     "data": {
      "text/html": [
       "<div>\n",
       "<style scoped>\n",
       "    .dataframe tbody tr th:only-of-type {\n",
       "        vertical-align: middle;\n",
       "    }\n",
       "\n",
       "    .dataframe tbody tr th {\n",
       "        vertical-align: top;\n",
       "    }\n",
       "\n",
       "    .dataframe thead th {\n",
       "        text-align: right;\n",
       "    }\n",
       "</style>\n",
       "<table border=\"1\" class=\"dataframe\">\n",
       "  <thead>\n",
       "    <tr style=\"text-align: right;\">\n",
       "      <th></th>\n",
       "      <th>latitude</th>\n",
       "      <th>longitude</th>\n",
       "      <th>address</th>\n",
       "    </tr>\n",
       "  </thead>\n",
       "  <tbody>\n",
       "    <tr>\n",
       "      <th>75</th>\n",
       "      <td>48.877421</td>\n",
       "      <td>2.371020</td>\n",
       "      <td>Colonel Fabien, Boulevard de la Villette, Quartier du Combat, Paris 19e Arrondissement, Paris, Île-de-France, France métropolitaine, 75019, France</td>\n",
       "    </tr>\n",
       "    <tr>\n",
       "      <th>76</th>\n",
       "      <td>48.871727</td>\n",
       "      <td>2.385085</td>\n",
       "      <td>Belleville, Paris 20e Arrondissement, Paris, Île-de-France, France métropolitaine, 75020, France</td>\n",
       "    </tr>\n",
       "    <tr>\n",
       "      <th>77</th>\n",
       "      <td>48.870362</td>\n",
       "      <td>2.406736</td>\n",
       "      <td>Quartier Saint-Fargeau, Paris 20e Arrondissement, Paris, Île-de-France, France métropolitaine, 75020, France</td>\n",
       "    </tr>\n",
       "    <tr>\n",
       "      <th>78</th>\n",
       "      <td>48.861217</td>\n",
       "      <td>2.393929</td>\n",
       "      <td>Cimetière du Père-Lachaise, 8, Boulevard de Ménilmontant, Saint-Blaise, Quartier de la Roquette, Paris 11e Arrondissement, Paris, Île-de-France, France métropolitaine, 75011, France</td>\n",
       "    </tr>\n",
       "    <tr>\n",
       "      <th>79</th>\n",
       "      <td>48.856219</td>\n",
       "      <td>2.404895</td>\n",
       "      <td>Quartier de Charonne, Paris 20e Arrondissement, Paris, Île-de-France, France métropolitaine, 75020, France</td>\n",
       "    </tr>\n",
       "  </tbody>\n",
       "</table>\n",
       "</div>"
      ],
      "text/plain": [
       "     latitude  longitude  \\\n",
       "75  48.877421   2.371020   \n",
       "76  48.871727   2.385085   \n",
       "77  48.870362   2.406736   \n",
       "78  48.861217   2.393929   \n",
       "79  48.856219   2.404895   \n",
       "\n",
       "                                                                                                                                                                                  address  \n",
       "75                                     Colonel Fabien, Boulevard de la Villette, Quartier du Combat, Paris 19e Arrondissement, Paris, Île-de-France, France métropolitaine, 75019, France  \n",
       "76                                                                                       Belleville, Paris 20e Arrondissement, Paris, Île-de-France, France métropolitaine, 75020, France  \n",
       "77                                                                           Quartier Saint-Fargeau, Paris 20e Arrondissement, Paris, Île-de-France, France métropolitaine, 75020, France  \n",
       "78  Cimetière du Père-Lachaise, 8, Boulevard de Ménilmontant, Saint-Blaise, Quartier de la Roquette, Paris 11e Arrondissement, Paris, Île-de-France, France métropolitaine, 75011, France  \n",
       "79                                                                             Quartier de Charonne, Paris 20e Arrondissement, Paris, Île-de-France, France métropolitaine, 75020, France  "
      ]
     },
     "execution_count": 22,
     "metadata": {},
     "output_type": "execute_result"
    }
   ],
   "source": [
    "from geopy.geocoders import Nominatim # convert an address into latitude and longitude values\n",
    "import time\n",
    "\n",
    "geodata = pd.DataFrame()\n",
    "    \n",
    "for qrt, pc in zip(df_paris.quarter, df_paris.postcode):\n",
    "    \n",
    "    geolocator = Nominatim(user_agent='parisberlin')\n",
    "    location = geolocator.geocode(\"{}, {}, France\".format(qrt, pc))\n",
    "    time.sleep(0.5) # pause execution for half a second after each request to avoid timeout error\n",
    "    geodata = geodata.append([[location.latitude, location.longitude, location.address]])\n",
    "    #print(location.raw)\n",
    "\n",
    "geodata.columns = ['latitude', 'longitude', 'address']\n",
    "geodata.reset_index(drop=True, inplace=True)\n",
    "\n",
    "geodata.tail()"
   ]
  },
  {
   "cell_type": "code",
   "execution_count": 19,
   "metadata": {},
   "outputs": [
    {
     "name": "stdout",
     "output_type": "stream",
     "text": [
      "<class 'pandas.core.frame.DataFrame'>\n",
      "RangeIndex: 80 entries, 0 to 79\n",
      "Data columns (total 5 columns):\n",
      " #   Column     Non-Null Count  Dtype  \n",
      "---  ------     --------------  -----  \n",
      " 0   quarter    80 non-null     object \n",
      " 1   postcode   80 non-null     int64  \n",
      " 2   latitude   80 non-null     float64\n",
      " 3   longitude  80 non-null     float64\n",
      " 4   address    80 non-null     object \n",
      "dtypes: float64(2), int64(1), object(2)\n",
      "memory usage: 3.2+ KB\n"
     ]
    }
   ],
   "source": [
    "df_paris['latitude'] = geodata['latitude']\n",
    "df_paris['longitude'] = geodata['longitude']\n",
    "df_paris['address'] = geodata['address']\n",
    "df_paris.info()"
   ]
  },
  {
   "cell_type": "code",
   "execution_count": 20,
   "metadata": {},
   "outputs": [
    {
     "data": {
      "text/html": [
       "<div>\n",
       "<style scoped>\n",
       "    .dataframe tbody tr th:only-of-type {\n",
       "        vertical-align: middle;\n",
       "    }\n",
       "\n",
       "    .dataframe tbody tr th {\n",
       "        vertical-align: top;\n",
       "    }\n",
       "\n",
       "    .dataframe thead th {\n",
       "        text-align: right;\n",
       "    }\n",
       "</style>\n",
       "<table border=\"1\" class=\"dataframe\">\n",
       "  <thead>\n",
       "    <tr style=\"text-align: right;\">\n",
       "      <th></th>\n",
       "      <th>quarter</th>\n",
       "      <th>postcode</th>\n",
       "      <th>latitude</th>\n",
       "      <th>longitude</th>\n",
       "      <th>address</th>\n",
       "    </tr>\n",
       "  </thead>\n",
       "  <tbody>\n",
       "    <tr>\n",
       "      <th>0</th>\n",
       "      <td>Saint-Germain-l'Auxerrois</td>\n",
       "      <td>75001</td>\n",
       "      <td>48.860211</td>\n",
       "      <td>2.336299</td>\n",
       "      <td>Quartier Saint-Germain-l'Auxerrois, Paris 1er Arrondissement, Paris, Île-de-France, France métropolitaine, 75001, France</td>\n",
       "    </tr>\n",
       "    <tr>\n",
       "      <th>1</th>\n",
       "      <td>Les Halles</td>\n",
       "      <td>75001</td>\n",
       "      <td>48.862466</td>\n",
       "      <td>2.346009</td>\n",
       "      <td>Les Halles, Allée Saint-John Perse, Quartier des Halles, Quartier Les Halles, Paris 1er Arrondissement, Paris, Île-de-France, France métropolitaine, 75001, France</td>\n",
       "    </tr>\n",
       "    <tr>\n",
       "      <th>2</th>\n",
       "      <td>Palais-Royal</td>\n",
       "      <td>75001</td>\n",
       "      <td>48.863585</td>\n",
       "      <td>2.336204</td>\n",
       "      <td>Palais Royal, Rue de Montpensier, Quartier des Halles, Quartier du Palais Royal, Paris 1er Arrondissement, Paris, Île-de-France, France métropolitaine, 75001, France</td>\n",
       "    </tr>\n",
       "    <tr>\n",
       "      <th>3</th>\n",
       "      <td>Place-Vendôme</td>\n",
       "      <td>75001</td>\n",
       "      <td>48.867463</td>\n",
       "      <td>2.329428</td>\n",
       "      <td>Place Vendôme, Quartier Saint-Georges, Quartier Vendôme, Paris 1er Arrondissement, Paris, Île-de-France, France métropolitaine, 75001, France</td>\n",
       "    </tr>\n",
       "    <tr>\n",
       "      <th>4</th>\n",
       "      <td>Gaillon</td>\n",
       "      <td>75002</td>\n",
       "      <td>48.869135</td>\n",
       "      <td>2.332909</td>\n",
       "      <td>Quartier Gaillon, Paris 2e Arrondissement, Paris, Île-de-France, France métropolitaine, 75002, France</td>\n",
       "    </tr>\n",
       "    <tr>\n",
       "      <th>5</th>\n",
       "      <td>Vivienne</td>\n",
       "      <td>75002</td>\n",
       "      <td>48.868859</td>\n",
       "      <td>2.339363</td>\n",
       "      <td>Quartier Vivienne, Paris 2e Arrondissement, Paris, Île-de-France, France métropolitaine, 75002, France</td>\n",
       "    </tr>\n",
       "    <tr>\n",
       "      <th>6</th>\n",
       "      <td>Mail</td>\n",
       "      <td>75002</td>\n",
       "      <td>48.868054</td>\n",
       "      <td>2.344593</td>\n",
       "      <td>Quartier du Mail, Paris 2e Arrondissement, Paris, Île-de-France, France métropolitaine, 75002, France</td>\n",
       "    </tr>\n",
       "    <tr>\n",
       "      <th>7</th>\n",
       "      <td>Bonne-Nouvelle</td>\n",
       "      <td>75002</td>\n",
       "      <td>48.870623</td>\n",
       "      <td>2.348750</td>\n",
       "      <td>Bonne Nouvelle, Boulevard de Bonne Nouvelle, Quartier des Halles, Quartier de Bonne-Nouvelle, Paris 2e Arrondissement, Paris, Île-de-France, France métropolitaine, 75002, France</td>\n",
       "    </tr>\n",
       "    <tr>\n",
       "      <th>8</th>\n",
       "      <td>Arts-et-Métiers</td>\n",
       "      <td>75003</td>\n",
       "      <td>48.865441</td>\n",
       "      <td>2.356132</td>\n",
       "      <td>Arts et Métiers, Rue de Turbigo, Beaubourg, Quartier des Arts-et-Métiers, Paris 3e Arrondissement, Paris, Île-de-France, France métropolitaine, 75003, France</td>\n",
       "    </tr>\n",
       "    <tr>\n",
       "      <th>9</th>\n",
       "      <td>Enfants-Rouges</td>\n",
       "      <td>75003</td>\n",
       "      <td>48.864332</td>\n",
       "      <td>2.362611</td>\n",
       "      <td>Quartier des Enfants-Rouges, Paris 3e Arrondissement, Paris, Île-de-France, France métropolitaine, 75003, France</td>\n",
       "    </tr>\n",
       "    <tr>\n",
       "      <th>10</th>\n",
       "      <td>Archives</td>\n",
       "      <td>75003</td>\n",
       "      <td>48.859571</td>\n",
       "      <td>2.362576</td>\n",
       "      <td>Quartier des Archives, Paris 3e Arrondissement, Paris, Île-de-France, France métropolitaine, 75003, France</td>\n",
       "    </tr>\n",
       "    <tr>\n",
       "      <th>11</th>\n",
       "      <td>Sainte-Avoye</td>\n",
       "      <td>75003</td>\n",
       "      <td>48.862700</td>\n",
       "      <td>2.354135</td>\n",
       "      <td>Quartier Sainte-Avoye, Paris 3e Arrondissement, Paris, Île-de-France, France métropolitaine, 75003, France</td>\n",
       "    </tr>\n",
       "    <tr>\n",
       "      <th>12</th>\n",
       "      <td>Saint-Merri</td>\n",
       "      <td>75004</td>\n",
       "      <td>48.858456</td>\n",
       "      <td>2.351702</td>\n",
       "      <td>Quartier Saint-Merri, Paris 4e Arrondissement, Paris, Île-de-France, France métropolitaine, 75004, France</td>\n",
       "    </tr>\n",
       "    <tr>\n",
       "      <th>13</th>\n",
       "      <td>Saint-Gervais</td>\n",
       "      <td>75004</td>\n",
       "      <td>48.855581</td>\n",
       "      <td>2.358359</td>\n",
       "      <td>Quartier Saint-Gervais, Paris 4e Arrondissement, Paris, Île-de-France, France métropolitaine, 75004, France</td>\n",
       "    </tr>\n",
       "    <tr>\n",
       "      <th>14</th>\n",
       "      <td>Arsenal</td>\n",
       "      <td>75004</td>\n",
       "      <td>48.851572</td>\n",
       "      <td>2.364795</td>\n",
       "      <td>Quartier de l'Arsenal, Paris 4e Arrondissement, Paris, Île-de-France, France métropolitaine, 75004, France</td>\n",
       "    </tr>\n",
       "    <tr>\n",
       "      <th>15</th>\n",
       "      <td>Notre-Dame</td>\n",
       "      <td>75004</td>\n",
       "      <td>48.852937</td>\n",
       "      <td>2.350050</td>\n",
       "      <td>Cathédrale Notre-Dame, 6, Parvis Notre-Dame - Place Jean-Paul II, Beaubourg, Quartier Les Îles, Paris 4e Arrondissement, Paris, Île-de-France, France métropolitaine, 75004, France</td>\n",
       "    </tr>\n",
       "    <tr>\n",
       "      <th>16</th>\n",
       "      <td>Quartier Saint-Victor</td>\n",
       "      <td>75005</td>\n",
       "      <td>48.847926</td>\n",
       "      <td>2.355269</td>\n",
       "      <td>Quartier Saint-Victor, Paris 5e Arrondissement, Paris, Île-de-France, France métropolitaine, 75005, France</td>\n",
       "    </tr>\n",
       "    <tr>\n",
       "      <th>17</th>\n",
       "      <td>Jardin-des-Plantes</td>\n",
       "      <td>75005</td>\n",
       "      <td>48.843222</td>\n",
       "      <td>2.359509</td>\n",
       "      <td>Jardin des Plantes, Beaubourg, Quartier du Jardin des Plantes, Paris 5e Arrondissement, Paris, Île-de-France, France métropolitaine, 75005, France</td>\n",
       "    </tr>\n",
       "    <tr>\n",
       "      <th>18</th>\n",
       "      <td>Val-de-Grâce</td>\n",
       "      <td>75005</td>\n",
       "      <td>48.842213</td>\n",
       "      <td>2.343882</td>\n",
       "      <td>Quartier du Val-de-Grâce, Paris 5e Arrondissement, Paris, Île-de-France, France métropolitaine, 75005, France</td>\n",
       "    </tr>\n",
       "    <tr>\n",
       "      <th>19</th>\n",
       "      <td>Sorbonne</td>\n",
       "      <td>75005</td>\n",
       "      <td>48.849123</td>\n",
       "      <td>2.345325</td>\n",
       "      <td>Quartier de la Sorbonne, Paris 5e Arrondissement, Paris, Île-de-France, France métropolitaine, 75005, France</td>\n",
       "    </tr>\n",
       "    <tr>\n",
       "      <th>20</th>\n",
       "      <td>Monnaie</td>\n",
       "      <td>75006</td>\n",
       "      <td>48.854581</td>\n",
       "      <td>2.340150</td>\n",
       "      <td>Quartier de la Monnaie, Paris 6e Arrondissement, Paris, Île-de-France, France métropolitaine, 75006, France</td>\n",
       "    </tr>\n",
       "    <tr>\n",
       "      <th>21</th>\n",
       "      <td>Odéon</td>\n",
       "      <td>75006</td>\n",
       "      <td>48.852243</td>\n",
       "      <td>2.339337</td>\n",
       "      <td>Odéon, Place Henri Mondor, Quartier des Halles, Quartier de la Monnaie, Paris 6e Arrondissement, Paris, Île-de-France, France métropolitaine, 75006, France</td>\n",
       "    </tr>\n",
       "    <tr>\n",
       "      <th>22</th>\n",
       "      <td>Notre-Dame-des-Champs</td>\n",
       "      <td>75006</td>\n",
       "      <td>48.844688</td>\n",
       "      <td>2.328831</td>\n",
       "      <td>Notre-Dame des Champs, Boulevard Raspail, Quartier Notre-Dame-des-Champs, Paris 6e Arrondissement, Paris, Île-de-France, France métropolitaine, 75006, France</td>\n",
       "    </tr>\n",
       "    <tr>\n",
       "      <th>23</th>\n",
       "      <td>Saint-Germain-des-Prés</td>\n",
       "      <td>75006</td>\n",
       "      <td>48.855475</td>\n",
       "      <td>2.333889</td>\n",
       "      <td>Quartier de Saint-Germain-des-Prés, Paris 6e Arrondissement, Paris, Île-de-France, France métropolitaine, 75006, France</td>\n",
       "    </tr>\n",
       "    <tr>\n",
       "      <th>24</th>\n",
       "      <td>Saint-Thomas-d'Aquin</td>\n",
       "      <td>75007</td>\n",
       "      <td>48.854926</td>\n",
       "      <td>2.325311</td>\n",
       "      <td>Quartier Saint-Thomas-d'Aquin, Paris 7e Arrondissement, Paris, Île-de-France, France métropolitaine, 75007, France</td>\n",
       "    </tr>\n",
       "    <tr>\n",
       "      <th>25</th>\n",
       "      <td>Les Invalides</td>\n",
       "      <td>75007</td>\n",
       "      <td>48.857037</td>\n",
       "      <td>2.311878</td>\n",
       "      <td>Musée de l'Armée, 129, Rue de Grenelle, Quartier des Invalides, Paris 7e Arrondissement, Paris, Île-de-France, France métropolitaine, 75007, France</td>\n",
       "    </tr>\n",
       "    <tr>\n",
       "      <th>26</th>\n",
       "      <td>École-Militaire</td>\n",
       "      <td>75007</td>\n",
       "      <td>48.851848</td>\n",
       "      <td>2.304756</td>\n",
       "      <td>École Militaire, Avenue Pierre Loti, Quartier du Gros-Caillou, Paris 7e Arrondissement, Paris, Île-de-France, France métropolitaine, 75007, France</td>\n",
       "    </tr>\n",
       "    <tr>\n",
       "      <th>27</th>\n",
       "      <td>Gros-Caillou</td>\n",
       "      <td>75007</td>\n",
       "      <td>48.857394</td>\n",
       "      <td>2.300540</td>\n",
       "      <td>Quartier du Gros-Caillou, Paris 7e Arrondissement, Paris, Île-de-France, France métropolitaine, 75007, France</td>\n",
       "    </tr>\n",
       "    <tr>\n",
       "      <th>28</th>\n",
       "      <td>Champs-Élysées</td>\n",
       "      <td>75008</td>\n",
       "      <td>48.870757</td>\n",
       "      <td>2.305331</td>\n",
       "      <td>Champs Élysées, Promenade des Champs-Élysées, Quartier du Faubourg-du-Roule, Paris 8e Arrondissement, Paris, Île-de-France, France métropolitaine, 75008, France</td>\n",
       "    </tr>\n",
       "    <tr>\n",
       "      <th>29</th>\n",
       "      <td>Faubourg-du-Roule</td>\n",
       "      <td>75008</td>\n",
       "      <td>48.874026</td>\n",
       "      <td>2.302803</td>\n",
       "      <td>Quartier du Faubourg-du-Roule, Paris 8e Arrondissement, Paris, Île-de-France, France métropolitaine, 75008, France</td>\n",
       "    </tr>\n",
       "    <tr>\n",
       "      <th>30</th>\n",
       "      <td>La Madeleine</td>\n",
       "      <td>75008</td>\n",
       "      <td>48.870137</td>\n",
       "      <td>2.324562</td>\n",
       "      <td>Église de la Madeleine, Place de la Madeleine, Quartier Saint-Georges, Quartier de la Madeleine, Paris 8e Arrondissement, Paris, Île-de-France, France métropolitaine, 75008, France</td>\n",
       "    </tr>\n",
       "    <tr>\n",
       "      <th>31</th>\n",
       "      <td>Europe</td>\n",
       "      <td>75008</td>\n",
       "      <td>48.878768</td>\n",
       "      <td>2.322264</td>\n",
       "      <td>Europe, Rue de Madrid, Quartier Saint-Georges, Quartier de l'Europe, Paris 8e Arrondissement, Paris, Île-de-France, France métropolitaine, 75008, France</td>\n",
       "    </tr>\n",
       "    <tr>\n",
       "      <th>32</th>\n",
       "      <td>Saint-Georges</td>\n",
       "      <td>75009</td>\n",
       "      <td>48.878447</td>\n",
       "      <td>2.337458</td>\n",
       "      <td>Saint-Georges, Place Saint-Georges, Nouvelle Athènes, Quartier Saint-Georges, Paris 9e Arrondissement, Paris, Île-de-France, France métropolitaine, 75009, France</td>\n",
       "    </tr>\n",
       "    <tr>\n",
       "      <th>33</th>\n",
       "      <td>Chaussée-d'Antin</td>\n",
       "      <td>75009</td>\n",
       "      <td>48.873198</td>\n",
       "      <td>2.332260</td>\n",
       "      <td>Quartier de la Chaussée-d'Antin, Paris 9e Arrondissement, Paris, Île-de-France, France métropolitaine, 75009, France</td>\n",
       "    </tr>\n",
       "    <tr>\n",
       "      <th>34</th>\n",
       "      <td>Faubourg-Montmartre</td>\n",
       "      <td>75009</td>\n",
       "      <td>48.873703</td>\n",
       "      <td>2.342912</td>\n",
       "      <td>Quartier du Faubourg-Montmartre, Paris 9e Arrondissement, Paris, Île-de-France, France métropolitaine, 75009, France</td>\n",
       "    </tr>\n",
       "    <tr>\n",
       "      <th>35</th>\n",
       "      <td>Rochechouart</td>\n",
       "      <td>75009</td>\n",
       "      <td>48.880128</td>\n",
       "      <td>2.345008</td>\n",
       "      <td>Quartier de Rochechouart, Paris 9e Arrondissement, Paris, Île-de-France, France métropolitaine, 75009, France</td>\n",
       "    </tr>\n",
       "    <tr>\n",
       "      <th>36</th>\n",
       "      <td>Saint-Vincent-de-Paul</td>\n",
       "      <td>75010</td>\n",
       "      <td>48.880065</td>\n",
       "      <td>2.356772</td>\n",
       "      <td>Quartier Saint-Vincent-de-Paul, Paris 10e Arrondissement, Paris, Île-de-France, France métropolitaine, 75010, France</td>\n",
       "    </tr>\n",
       "    <tr>\n",
       "      <th>37</th>\n",
       "      <td>Porte-Saint-Denis</td>\n",
       "      <td>75010</td>\n",
       "      <td>48.873275</td>\n",
       "      <td>2.352188</td>\n",
       "      <td>Quartier de la Porte-Saint-Denis, Paris 10e Arrondissement, Paris, Île-de-France, France métropolitaine, 75010, France</td>\n",
       "    </tr>\n",
       "    <tr>\n",
       "      <th>38</th>\n",
       "      <td>Porte-Saint-Martin</td>\n",
       "      <td>75010</td>\n",
       "      <td>48.871837</td>\n",
       "      <td>2.361744</td>\n",
       "      <td>Quartier de la Porte-Saint-Martin, Paris 10e Arrondissement, Paris, Île-de-France, France métropolitaine, 75010, France</td>\n",
       "    </tr>\n",
       "    <tr>\n",
       "      <th>39</th>\n",
       "      <td>Hôpital-Saint-Louis</td>\n",
       "      <td>75010</td>\n",
       "      <td>48.876619</td>\n",
       "      <td>2.366364</td>\n",
       "      <td>Quartier de l'Hôpital Saint-Louis, Paris 10e Arrondissement, Paris, Île-de-France, France métropolitaine, 75010, France</td>\n",
       "    </tr>\n",
       "    <tr>\n",
       "      <th>40</th>\n",
       "      <td>Folie-Méricourt</td>\n",
       "      <td>75011</td>\n",
       "      <td>48.867380</td>\n",
       "      <td>2.373423</td>\n",
       "      <td>Quartier de la Folie-Méricourt, Paris 11e Arrondissement, Paris, Île-de-France, France métropolitaine, 75011, France</td>\n",
       "    </tr>\n",
       "    <tr>\n",
       "      <th>41</th>\n",
       "      <td>Saint-Ambroise</td>\n",
       "      <td>75011</td>\n",
       "      <td>48.861052</td>\n",
       "      <td>2.374796</td>\n",
       "      <td>Saint-Ambroise, Boulevard Voltaire, Quartier de la Roquette, Paris 11e Arrondissement, Paris, Île-de-France, France métropolitaine, 75011, France</td>\n",
       "    </tr>\n",
       "    <tr>\n",
       "      <th>42</th>\n",
       "      <td>La Roquette</td>\n",
       "      <td>75011</td>\n",
       "      <td>48.857280</td>\n",
       "      <td>2.381206</td>\n",
       "      <td>Quartier de la Roquette, Paris 11e Arrondissement, Paris, Île-de-France, France métropolitaine, 75011, France</td>\n",
       "    </tr>\n",
       "    <tr>\n",
       "      <th>43</th>\n",
       "      <td>Sainte-Marguerite</td>\n",
       "      <td>75011</td>\n",
       "      <td>48.852404</td>\n",
       "      <td>2.385895</td>\n",
       "      <td>Quartier Sainte-Marguerite, Paris 11e Arrondissement, Paris, Île-de-France, France métropolitaine, 75011, France</td>\n",
       "    </tr>\n",
       "    <tr>\n",
       "      <th>44</th>\n",
       "      <td>Bel-Air</td>\n",
       "      <td>75012</td>\n",
       "      <td>48.841337</td>\n",
       "      <td>2.400894</td>\n",
       "      <td>Bel-Air, Boulevard de Picpus, Saint-Blaise, Quartier de Picpus, Paris 12e Arrondissement, Paris, Île-de-France, France métropolitaine, 75012, France</td>\n",
       "    </tr>\n",
       "    <tr>\n",
       "      <th>45</th>\n",
       "      <td>Picpus</td>\n",
       "      <td>75012</td>\n",
       "      <td>48.845075</td>\n",
       "      <td>2.401080</td>\n",
       "      <td>Picpus, Avenue de Saint-Mandé, Saint-Blaise, Quartier de Picpus, Paris 12e Arrondissement, Paris, Île-de-France, France métropolitaine, 75012, France</td>\n",
       "    </tr>\n",
       "    <tr>\n",
       "      <th>46</th>\n",
       "      <td>Bercy</td>\n",
       "      <td>75012</td>\n",
       "      <td>48.836799</td>\n",
       "      <td>2.380847</td>\n",
       "      <td>Bercy, Paris 12e Arrondissement, Paris, Île-de-France, France métropolitaine, 75012, France</td>\n",
       "    </tr>\n",
       "    <tr>\n",
       "      <th>47</th>\n",
       "      <td>Quinze-Vingts</td>\n",
       "      <td>75012</td>\n",
       "      <td>48.846770</td>\n",
       "      <td>2.374610</td>\n",
       "      <td>Quartier des Quinze-Vingts, Paris 12e Arrondissement, Paris, Île-de-France, France métropolitaine, 75012, France</td>\n",
       "    </tr>\n",
       "    <tr>\n",
       "      <th>48</th>\n",
       "      <td>Salpêtrière</td>\n",
       "      <td>75013</td>\n",
       "      <td>48.837817</td>\n",
       "      <td>2.364681</td>\n",
       "      <td>Quartier de la Salpêtrière, Paris 13e Arrondissement, Paris, Île-de-France, France métropolitaine, 75013, France</td>\n",
       "    </tr>\n",
       "    <tr>\n",
       "      <th>49</th>\n",
       "      <td>La Gare</td>\n",
       "      <td>75013</td>\n",
       "      <td>48.827898</td>\n",
       "      <td>2.372877</td>\n",
       "      <td>Quartier de la Gare, Paris 13e Arrondissement, Paris, Île-de-France, France métropolitaine, 75013, France</td>\n",
       "    </tr>\n",
       "    <tr>\n",
       "      <th>50</th>\n",
       "      <td>Maison-Blanche</td>\n",
       "      <td>75013</td>\n",
       "      <td>48.822474</td>\n",
       "      <td>2.358504</td>\n",
       "      <td>Maison Blanche, Avenue d'Italie, Cité Florale, Quartier de la Maison-Blanche, Paris 13e Arrondissement, Paris, Île-de-France, France métropolitaine, 75013, France</td>\n",
       "    </tr>\n",
       "    <tr>\n",
       "      <th>51</th>\n",
       "      <td>Croulebarbe</td>\n",
       "      <td>75013</td>\n",
       "      <td>48.833974</td>\n",
       "      <td>2.347634</td>\n",
       "      <td>Quartier de Croulebarbe, Paris 13e Arrondissement, Paris, Île-de-France, France métropolitaine, 75013, France</td>\n",
       "    </tr>\n",
       "    <tr>\n",
       "      <th>52</th>\n",
       "      <td>Montparnasse</td>\n",
       "      <td>75014</td>\n",
       "      <td>48.837679</td>\n",
       "      <td>2.332430</td>\n",
       "      <td>Quartier du Montparnasse, Paris 14e Arrondissement, Paris, Île-de-France, France métropolitaine, 75014, France</td>\n",
       "    </tr>\n",
       "    <tr>\n",
       "      <th>53</th>\n",
       "      <td>Parc Montsouris</td>\n",
       "      <td>75014</td>\n",
       "      <td>48.822537</td>\n",
       "      <td>2.337877</td>\n",
       "      <td>Parc Montsouris, Avenue de la Tunisie, Cité Florale, Quartier du Parc-de-Montsouris, Paris 14e Arrondissement, Paris, Île-de-France, France métropolitaine, 75014, France</td>\n",
       "    </tr>\n",
       "    <tr>\n",
       "      <th>54</th>\n",
       "      <td>Petit-Montrouge</td>\n",
       "      <td>75014</td>\n",
       "      <td>48.826938</td>\n",
       "      <td>2.326241</td>\n",
       "      <td>Quartier du Petit-Montrouge, Paris 14e Arrondissement, Paris, Île-de-France, France métropolitaine, 75014, France</td>\n",
       "    </tr>\n",
       "    <tr>\n",
       "      <th>55</th>\n",
       "      <td>Plaisance</td>\n",
       "      <td>75014</td>\n",
       "      <td>48.831780</td>\n",
       "      <td>2.314025</td>\n",
       "      <td>Plaisance, Rue Raymond Losserand, Quartier de Plaisance, Paris 14e Arrondissement, Paris, Île-de-France, France métropolitaine, 75014, France</td>\n",
       "    </tr>\n",
       "    <tr>\n",
       "      <th>56</th>\n",
       "      <td>Saint-Lambert</td>\n",
       "      <td>75015</td>\n",
       "      <td>48.834444</td>\n",
       "      <td>2.298216</td>\n",
       "      <td>Quartier Saint-Lambert, Paris 15e Arrondissement, Paris, Île-de-France, France métropolitaine, 75015, France</td>\n",
       "    </tr>\n",
       "    <tr>\n",
       "      <th>57</th>\n",
       "      <td>Necker</td>\n",
       "      <td>75015</td>\n",
       "      <td>48.841966</td>\n",
       "      <td>2.312909</td>\n",
       "      <td>Quartier Necker, Paris 15e Arrondissement, Paris, Île-de-France, France métropolitaine, 75015, France</td>\n",
       "    </tr>\n",
       "    <tr>\n",
       "      <th>58</th>\n",
       "      <td>Grenelle</td>\n",
       "      <td>75015</td>\n",
       "      <td>48.853890</td>\n",
       "      <td>2.289381</td>\n",
       "      <td>Bir-Hakeim, Boulevard de Grenelle, Quartier de Grenelle, Paris 15e Arrondissement, Paris, Île-de-France, France métropolitaine, 75015, France</td>\n",
       "    </tr>\n",
       "    <tr>\n",
       "      <th>59</th>\n",
       "      <td>Javel</td>\n",
       "      <td>75015</td>\n",
       "      <td>48.839247</td>\n",
       "      <td>2.279050</td>\n",
       "      <td>Quartier de Javel, Paris 15e Arrondissement, Paris, Île-de-France, France métropolitaine, 75015, France</td>\n",
       "    </tr>\n",
       "    <tr>\n",
       "      <th>60</th>\n",
       "      <td>Auteuil</td>\n",
       "      <td>75016</td>\n",
       "      <td>48.847722</td>\n",
       "      <td>2.266738</td>\n",
       "      <td>Auteuil, Paris 16e Arrondissement, Paris, Île-de-France, France métropolitaine, 75016, France</td>\n",
       "    </tr>\n",
       "    <tr>\n",
       "      <th>61</th>\n",
       "      <td>La Muette</td>\n",
       "      <td>75016</td>\n",
       "      <td>48.857975</td>\n",
       "      <td>2.274062</td>\n",
       "      <td>La Muette, Avenue Mozart, Quartier de la Muette, Paris 16e Arrondissement, Paris, Île-de-France, France métropolitaine, 75016, France</td>\n",
       "    </tr>\n",
       "    <tr>\n",
       "      <th>62</th>\n",
       "      <td>Porte-Dauphine</td>\n",
       "      <td>75016</td>\n",
       "      <td>48.871318</td>\n",
       "      <td>2.277771</td>\n",
       "      <td>Porte Dauphine, Avenue Bugeaud, Quartier de la Porte-Dauphine, Paris 16e Arrondissement, Paris, Île-de-France, France métropolitaine, 75116, France</td>\n",
       "    </tr>\n",
       "    <tr>\n",
       "      <th>63</th>\n",
       "      <td>Chaillot</td>\n",
       "      <td>75016</td>\n",
       "      <td>48.868918</td>\n",
       "      <td>2.292113</td>\n",
       "      <td>Quartier de Chaillot, Paris 16e Arrondissement, Paris, Île-de-France, France métropolitaine, 75783, France</td>\n",
       "    </tr>\n",
       "    <tr>\n",
       "      <th>64</th>\n",
       "      <td>Les Ternes</td>\n",
       "      <td>75017</td>\n",
       "      <td>48.880722</td>\n",
       "      <td>2.294426</td>\n",
       "      <td>Les Ternes, Paris 17e Arrondissement, Paris, Île-de-France, France métropolitaine, 75017, France</td>\n",
       "    </tr>\n",
       "    <tr>\n",
       "      <th>65</th>\n",
       "      <td>Plaine Monceau</td>\n",
       "      <td>75017</td>\n",
       "      <td>48.885729</td>\n",
       "      <td>2.300543</td>\n",
       "      <td>Quartier de la Plaine-de-Monceau, Paris 17e Arrondissement, Paris, Île-de-France, France métropolitaine, 75017, France</td>\n",
       "    </tr>\n",
       "    <tr>\n",
       "      <th>66</th>\n",
       "      <td>Batignolles</td>\n",
       "      <td>75017</td>\n",
       "      <td>48.886355</td>\n",
       "      <td>2.321457</td>\n",
       "      <td>Batignolles, Paris 17e Arrondissement, Paris, Île-de-France, France métropolitaine, 75017, France</td>\n",
       "    </tr>\n",
       "    <tr>\n",
       "      <th>67</th>\n",
       "      <td>Épinettes</td>\n",
       "      <td>75017</td>\n",
       "      <td>48.893751</td>\n",
       "      <td>2.319857</td>\n",
       "      <td>Quartier des Épinettes, Paris 17e Arrondissement, Paris, Île-de-France, France métropolitaine, 75017, France</td>\n",
       "    </tr>\n",
       "    <tr>\n",
       "      <th>68</th>\n",
       "      <td>Grandes-Carrières</td>\n",
       "      <td>75018</td>\n",
       "      <td>48.892126</td>\n",
       "      <td>2.333524</td>\n",
       "      <td>Quartier des Grandes-Carrières, Paris 18e Arrondissement, Paris, Île-de-France, France métropolitaine, 75018, France</td>\n",
       "    </tr>\n",
       "    <tr>\n",
       "      <th>69</th>\n",
       "      <td>Clignancourt</td>\n",
       "      <td>75018</td>\n",
       "      <td>48.894058</td>\n",
       "      <td>2.345678</td>\n",
       "      <td>Clignancourt, Paris 18e Arrondissement, Paris, Île-de-France, France métropolitaine, 75018, France</td>\n",
       "    </tr>\n",
       "    <tr>\n",
       "      <th>70</th>\n",
       "      <td>Goutte-d'Or</td>\n",
       "      <td>75018</td>\n",
       "      <td>48.892676</td>\n",
       "      <td>2.356040</td>\n",
       "      <td>Quartier de la Goutte-d'Or, Paris 18e Arrondissement, Paris, Île-de-France, France métropolitaine, 75018, France</td>\n",
       "    </tr>\n",
       "    <tr>\n",
       "      <th>71</th>\n",
       "      <td>La Chapelle</td>\n",
       "      <td>75018</td>\n",
       "      <td>48.893272</td>\n",
       "      <td>2.364671</td>\n",
       "      <td>Quartier de la Chapelle, Paris 18e Arrondissement, Paris, Île-de-France, France métropolitaine, 75018, France</td>\n",
       "    </tr>\n",
       "    <tr>\n",
       "      <th>72</th>\n",
       "      <td>La Villette</td>\n",
       "      <td>75019</td>\n",
       "      <td>48.886243</td>\n",
       "      <td>2.374885</td>\n",
       "      <td>Quartier de la Villette, Paris 19e Arrondissement, Paris, Île-de-France, France métropolitaine, 75019, France</td>\n",
       "    </tr>\n",
       "    <tr>\n",
       "      <th>73</th>\n",
       "      <td>Pont-de-Flandre</td>\n",
       "      <td>75019</td>\n",
       "      <td>48.894728</td>\n",
       "      <td>2.382305</td>\n",
       "      <td>Corentin Cariou, Avenue Corentin Cariou, Quartier du Pont-de-Flandre, Paris 19e Arrondissement, Paris, Île-de-France, France métropolitaine, 75019, France</td>\n",
       "    </tr>\n",
       "    <tr>\n",
       "      <th>74</th>\n",
       "      <td>Amérique</td>\n",
       "      <td>75019</td>\n",
       "      <td>48.882424</td>\n",
       "      <td>2.394025</td>\n",
       "      <td>Quartier d'Amérique, Paris 19e Arrondissement, Paris, Île-de-France, France métropolitaine, 75019, France</td>\n",
       "    </tr>\n",
       "    <tr>\n",
       "      <th>75</th>\n",
       "      <td>Combat</td>\n",
       "      <td>75019</td>\n",
       "      <td>48.877421</td>\n",
       "      <td>2.371020</td>\n",
       "      <td>Colonel Fabien, Boulevard de la Villette, Quartier du Combat, Paris 19e Arrondissement, Paris, Île-de-France, France métropolitaine, 75019, France</td>\n",
       "    </tr>\n",
       "    <tr>\n",
       "      <th>76</th>\n",
       "      <td>Belleville</td>\n",
       "      <td>75020</td>\n",
       "      <td>48.871727</td>\n",
       "      <td>2.385085</td>\n",
       "      <td>Belleville, Paris 20e Arrondissement, Paris, Île-de-France, France métropolitaine, 75020, France</td>\n",
       "    </tr>\n",
       "    <tr>\n",
       "      <th>77</th>\n",
       "      <td>Saint-Fargeau</td>\n",
       "      <td>75020</td>\n",
       "      <td>48.870362</td>\n",
       "      <td>2.406736</td>\n",
       "      <td>Quartier Saint-Fargeau, Paris 20e Arrondissement, Paris, Île-de-France, France métropolitaine, 75020, France</td>\n",
       "    </tr>\n",
       "    <tr>\n",
       "      <th>78</th>\n",
       "      <td>Père-Lachaise</td>\n",
       "      <td>75020</td>\n",
       "      <td>48.861217</td>\n",
       "      <td>2.393929</td>\n",
       "      <td>Cimetière du Père-Lachaise, 8, Boulevard de Ménilmontant, Saint-Blaise, Quartier de la Roquette, Paris 11e Arrondissement, Paris, Île-de-France, France métropolitaine, 75011, France</td>\n",
       "    </tr>\n",
       "    <tr>\n",
       "      <th>79</th>\n",
       "      <td>Charonne</td>\n",
       "      <td>75020</td>\n",
       "      <td>48.856219</td>\n",
       "      <td>2.404895</td>\n",
       "      <td>Quartier de Charonne, Paris 20e Arrondissement, Paris, Île-de-France, France métropolitaine, 75020, France</td>\n",
       "    </tr>\n",
       "  </tbody>\n",
       "</table>\n",
       "</div>"
      ],
      "text/plain": [
       "                      quarter  postcode   latitude  longitude  \\\n",
       "0   Saint-Germain-l'Auxerrois     75001  48.860211   2.336299   \n",
       "1                  Les Halles     75001  48.862466   2.346009   \n",
       "2                Palais-Royal     75001  48.863585   2.336204   \n",
       "3               Place-Vendôme     75001  48.867463   2.329428   \n",
       "4                     Gaillon     75002  48.869135   2.332909   \n",
       "5                    Vivienne     75002  48.868859   2.339363   \n",
       "6                        Mail     75002  48.868054   2.344593   \n",
       "7              Bonne-Nouvelle     75002  48.870623   2.348750   \n",
       "8             Arts-et-Métiers     75003  48.865441   2.356132   \n",
       "9              Enfants-Rouges     75003  48.864332   2.362611   \n",
       "10                   Archives     75003  48.859571   2.362576   \n",
       "11               Sainte-Avoye     75003  48.862700   2.354135   \n",
       "12                Saint-Merri     75004  48.858456   2.351702   \n",
       "13              Saint-Gervais     75004  48.855581   2.358359   \n",
       "14                    Arsenal     75004  48.851572   2.364795   \n",
       "15                 Notre-Dame     75004  48.852937   2.350050   \n",
       "16      Quartier Saint-Victor     75005  48.847926   2.355269   \n",
       "17         Jardin-des-Plantes     75005  48.843222   2.359509   \n",
       "18               Val-de-Grâce     75005  48.842213   2.343882   \n",
       "19                   Sorbonne     75005  48.849123   2.345325   \n",
       "20                    Monnaie     75006  48.854581   2.340150   \n",
       "21                      Odéon     75006  48.852243   2.339337   \n",
       "22      Notre-Dame-des-Champs     75006  48.844688   2.328831   \n",
       "23     Saint-Germain-des-Prés     75006  48.855475   2.333889   \n",
       "24       Saint-Thomas-d'Aquin     75007  48.854926   2.325311   \n",
       "25              Les Invalides     75007  48.857037   2.311878   \n",
       "26            École-Militaire     75007  48.851848   2.304756   \n",
       "27               Gros-Caillou     75007  48.857394   2.300540   \n",
       "28             Champs-Élysées     75008  48.870757   2.305331   \n",
       "29          Faubourg-du-Roule     75008  48.874026   2.302803   \n",
       "30               La Madeleine     75008  48.870137   2.324562   \n",
       "31                     Europe     75008  48.878768   2.322264   \n",
       "32              Saint-Georges     75009  48.878447   2.337458   \n",
       "33           Chaussée-d'Antin     75009  48.873198   2.332260   \n",
       "34        Faubourg-Montmartre     75009  48.873703   2.342912   \n",
       "35               Rochechouart     75009  48.880128   2.345008   \n",
       "36      Saint-Vincent-de-Paul     75010  48.880065   2.356772   \n",
       "37          Porte-Saint-Denis     75010  48.873275   2.352188   \n",
       "38         Porte-Saint-Martin     75010  48.871837   2.361744   \n",
       "39        Hôpital-Saint-Louis     75010  48.876619   2.366364   \n",
       "40            Folie-Méricourt     75011  48.867380   2.373423   \n",
       "41             Saint-Ambroise     75011  48.861052   2.374796   \n",
       "42                La Roquette     75011  48.857280   2.381206   \n",
       "43          Sainte-Marguerite     75011  48.852404   2.385895   \n",
       "44                    Bel-Air     75012  48.841337   2.400894   \n",
       "45                     Picpus     75012  48.845075   2.401080   \n",
       "46                      Bercy     75012  48.836799   2.380847   \n",
       "47              Quinze-Vingts     75012  48.846770   2.374610   \n",
       "48                Salpêtrière     75013  48.837817   2.364681   \n",
       "49                    La Gare     75013  48.827898   2.372877   \n",
       "50             Maison-Blanche     75013  48.822474   2.358504   \n",
       "51                Croulebarbe     75013  48.833974   2.347634   \n",
       "52               Montparnasse     75014  48.837679   2.332430   \n",
       "53            Parc Montsouris     75014  48.822537   2.337877   \n",
       "54            Petit-Montrouge     75014  48.826938   2.326241   \n",
       "55                  Plaisance     75014  48.831780   2.314025   \n",
       "56              Saint-Lambert     75015  48.834444   2.298216   \n",
       "57                     Necker     75015  48.841966   2.312909   \n",
       "58                   Grenelle     75015  48.853890   2.289381   \n",
       "59                      Javel     75015  48.839247   2.279050   \n",
       "60                    Auteuil     75016  48.847722   2.266738   \n",
       "61                  La Muette     75016  48.857975   2.274062   \n",
       "62             Porte-Dauphine     75016  48.871318   2.277771   \n",
       "63                   Chaillot     75016  48.868918   2.292113   \n",
       "64                 Les Ternes     75017  48.880722   2.294426   \n",
       "65             Plaine Monceau     75017  48.885729   2.300543   \n",
       "66                Batignolles     75017  48.886355   2.321457   \n",
       "67                  Épinettes     75017  48.893751   2.319857   \n",
       "68          Grandes-Carrières     75018  48.892126   2.333524   \n",
       "69               Clignancourt     75018  48.894058   2.345678   \n",
       "70                Goutte-d'Or     75018  48.892676   2.356040   \n",
       "71                La Chapelle     75018  48.893272   2.364671   \n",
       "72                La Villette     75019  48.886243   2.374885   \n",
       "73            Pont-de-Flandre     75019  48.894728   2.382305   \n",
       "74                   Amérique     75019  48.882424   2.394025   \n",
       "75                     Combat     75019  48.877421   2.371020   \n",
       "76                 Belleville     75020  48.871727   2.385085   \n",
       "77              Saint-Fargeau     75020  48.870362   2.406736   \n",
       "78              Père-Lachaise     75020  48.861217   2.393929   \n",
       "79                   Charonne     75020  48.856219   2.404895   \n",
       "\n",
       "                                                                                                                                                                                  address  \n",
       "0                                                                Quartier Saint-Germain-l'Auxerrois, Paris 1er Arrondissement, Paris, Île-de-France, France métropolitaine, 75001, France  \n",
       "1                      Les Halles, Allée Saint-John Perse, Quartier des Halles, Quartier Les Halles, Paris 1er Arrondissement, Paris, Île-de-France, France métropolitaine, 75001, France  \n",
       "2                   Palais Royal, Rue de Montpensier, Quartier des Halles, Quartier du Palais Royal, Paris 1er Arrondissement, Paris, Île-de-France, France métropolitaine, 75001, France  \n",
       "3                                           Place Vendôme, Quartier Saint-Georges, Quartier Vendôme, Paris 1er Arrondissement, Paris, Île-de-France, France métropolitaine, 75001, France  \n",
       "4                                                                                   Quartier Gaillon, Paris 2e Arrondissement, Paris, Île-de-France, France métropolitaine, 75002, France  \n",
       "5                                                                                  Quartier Vivienne, Paris 2e Arrondissement, Paris, Île-de-France, France métropolitaine, 75002, France  \n",
       "6                                                                                   Quartier du Mail, Paris 2e Arrondissement, Paris, Île-de-France, France métropolitaine, 75002, France  \n",
       "7       Bonne Nouvelle, Boulevard de Bonne Nouvelle, Quartier des Halles, Quartier de Bonne-Nouvelle, Paris 2e Arrondissement, Paris, Île-de-France, France métropolitaine, 75002, France  \n",
       "8                           Arts et Métiers, Rue de Turbigo, Beaubourg, Quartier des Arts-et-Métiers, Paris 3e Arrondissement, Paris, Île-de-France, France métropolitaine, 75003, France  \n",
       "9                                                                        Quartier des Enfants-Rouges, Paris 3e Arrondissement, Paris, Île-de-France, France métropolitaine, 75003, France  \n",
       "10                                                                             Quartier des Archives, Paris 3e Arrondissement, Paris, Île-de-France, France métropolitaine, 75003, France  \n",
       "11                                                                             Quartier Sainte-Avoye, Paris 3e Arrondissement, Paris, Île-de-France, France métropolitaine, 75003, France  \n",
       "12                                                                              Quartier Saint-Merri, Paris 4e Arrondissement, Paris, Île-de-France, France métropolitaine, 75004, France  \n",
       "13                                                                            Quartier Saint-Gervais, Paris 4e Arrondissement, Paris, Île-de-France, France métropolitaine, 75004, France  \n",
       "14                                                                             Quartier de l'Arsenal, Paris 4e Arrondissement, Paris, Île-de-France, France métropolitaine, 75004, France  \n",
       "15    Cathédrale Notre-Dame, 6, Parvis Notre-Dame - Place Jean-Paul II, Beaubourg, Quartier Les Îles, Paris 4e Arrondissement, Paris, Île-de-France, France métropolitaine, 75004, France  \n",
       "16                                                                             Quartier Saint-Victor, Paris 5e Arrondissement, Paris, Île-de-France, France métropolitaine, 75005, France  \n",
       "17                                     Jardin des Plantes, Beaubourg, Quartier du Jardin des Plantes, Paris 5e Arrondissement, Paris, Île-de-France, France métropolitaine, 75005, France  \n",
       "18                                                                          Quartier du Val-de-Grâce, Paris 5e Arrondissement, Paris, Île-de-France, France métropolitaine, 75005, France  \n",
       "19                                                                           Quartier de la Sorbonne, Paris 5e Arrondissement, Paris, Île-de-France, France métropolitaine, 75005, France  \n",
       "20                                                                            Quartier de la Monnaie, Paris 6e Arrondissement, Paris, Île-de-France, France métropolitaine, 75006, France  \n",
       "21                            Odéon, Place Henri Mondor, Quartier des Halles, Quartier de la Monnaie, Paris 6e Arrondissement, Paris, Île-de-France, France métropolitaine, 75006, France  \n",
       "22                          Notre-Dame des Champs, Boulevard Raspail, Quartier Notre-Dame-des-Champs, Paris 6e Arrondissement, Paris, Île-de-France, France métropolitaine, 75006, France  \n",
       "23                                                                Quartier de Saint-Germain-des-Prés, Paris 6e Arrondissement, Paris, Île-de-France, France métropolitaine, 75006, France  \n",
       "24                                                                     Quartier Saint-Thomas-d'Aquin, Paris 7e Arrondissement, Paris, Île-de-France, France métropolitaine, 75007, France  \n",
       "25                                    Musée de l'Armée, 129, Rue de Grenelle, Quartier des Invalides, Paris 7e Arrondissement, Paris, Île-de-France, France métropolitaine, 75007, France  \n",
       "26                                     École Militaire, Avenue Pierre Loti, Quartier du Gros-Caillou, Paris 7e Arrondissement, Paris, Île-de-France, France métropolitaine, 75007, France  \n",
       "27                                                                          Quartier du Gros-Caillou, Paris 7e Arrondissement, Paris, Île-de-France, France métropolitaine, 75007, France  \n",
       "28                       Champs Élysées, Promenade des Champs-Élysées, Quartier du Faubourg-du-Roule, Paris 8e Arrondissement, Paris, Île-de-France, France métropolitaine, 75008, France  \n",
       "29                                                                     Quartier du Faubourg-du-Roule, Paris 8e Arrondissement, Paris, Île-de-France, France métropolitaine, 75008, France  \n",
       "30   Église de la Madeleine, Place de la Madeleine, Quartier Saint-Georges, Quartier de la Madeleine, Paris 8e Arrondissement, Paris, Île-de-France, France métropolitaine, 75008, France  \n",
       "31                               Europe, Rue de Madrid, Quartier Saint-Georges, Quartier de l'Europe, Paris 8e Arrondissement, Paris, Île-de-France, France métropolitaine, 75008, France  \n",
       "32                      Saint-Georges, Place Saint-Georges, Nouvelle Athènes, Quartier Saint-Georges, Paris 9e Arrondissement, Paris, Île-de-France, France métropolitaine, 75009, France  \n",
       "33                                                                   Quartier de la Chaussée-d'Antin, Paris 9e Arrondissement, Paris, Île-de-France, France métropolitaine, 75009, France  \n",
       "34                                                                   Quartier du Faubourg-Montmartre, Paris 9e Arrondissement, Paris, Île-de-France, France métropolitaine, 75009, France  \n",
       "35                                                                          Quartier de Rochechouart, Paris 9e Arrondissement, Paris, Île-de-France, France métropolitaine, 75009, France  \n",
       "36                                                                   Quartier Saint-Vincent-de-Paul, Paris 10e Arrondissement, Paris, Île-de-France, France métropolitaine, 75010, France  \n",
       "37                                                                 Quartier de la Porte-Saint-Denis, Paris 10e Arrondissement, Paris, Île-de-France, France métropolitaine, 75010, France  \n",
       "38                                                                Quartier de la Porte-Saint-Martin, Paris 10e Arrondissement, Paris, Île-de-France, France métropolitaine, 75010, France  \n",
       "39                                                                Quartier de l'Hôpital Saint-Louis, Paris 10e Arrondissement, Paris, Île-de-France, France métropolitaine, 75010, France  \n",
       "40                                                                   Quartier de la Folie-Méricourt, Paris 11e Arrondissement, Paris, Île-de-France, France métropolitaine, 75011, France  \n",
       "41                                      Saint-Ambroise, Boulevard Voltaire, Quartier de la Roquette, Paris 11e Arrondissement, Paris, Île-de-France, France métropolitaine, 75011, France  \n",
       "42                                                                          Quartier de la Roquette, Paris 11e Arrondissement, Paris, Île-de-France, France métropolitaine, 75011, France  \n",
       "43                                                                       Quartier Sainte-Marguerite, Paris 11e Arrondissement, Paris, Île-de-France, France métropolitaine, 75011, France  \n",
       "44                                   Bel-Air, Boulevard de Picpus, Saint-Blaise, Quartier de Picpus, Paris 12e Arrondissement, Paris, Île-de-France, France métropolitaine, 75012, France  \n",
       "45                                  Picpus, Avenue de Saint-Mandé, Saint-Blaise, Quartier de Picpus, Paris 12e Arrondissement, Paris, Île-de-France, France métropolitaine, 75012, France  \n",
       "46                                                                                            Bercy, Paris 12e Arrondissement, Paris, Île-de-France, France métropolitaine, 75012, France  \n",
       "47                                                                       Quartier des Quinze-Vingts, Paris 12e Arrondissement, Paris, Île-de-France, France métropolitaine, 75012, France  \n",
       "48                                                                       Quartier de la Salpêtrière, Paris 13e Arrondissement, Paris, Île-de-France, France métropolitaine, 75013, France  \n",
       "49                                                                              Quartier de la Gare, Paris 13e Arrondissement, Paris, Île-de-France, France métropolitaine, 75013, France  \n",
       "50                     Maison Blanche, Avenue d'Italie, Cité Florale, Quartier de la Maison-Blanche, Paris 13e Arrondissement, Paris, Île-de-France, France métropolitaine, 75013, France  \n",
       "51                                                                          Quartier de Croulebarbe, Paris 13e Arrondissement, Paris, Île-de-France, France métropolitaine, 75013, France  \n",
       "52                                                                         Quartier du Montparnasse, Paris 14e Arrondissement, Paris, Île-de-France, France métropolitaine, 75014, France  \n",
       "53              Parc Montsouris, Avenue de la Tunisie, Cité Florale, Quartier du Parc-de-Montsouris, Paris 14e Arrondissement, Paris, Île-de-France, France métropolitaine, 75014, France  \n",
       "54                                                                      Quartier du Petit-Montrouge, Paris 14e Arrondissement, Paris, Île-de-France, France métropolitaine, 75014, France  \n",
       "55                                          Plaisance, Rue Raymond Losserand, Quartier de Plaisance, Paris 14e Arrondissement, Paris, Île-de-France, France métropolitaine, 75014, France  \n",
       "56                                                                           Quartier Saint-Lambert, Paris 15e Arrondissement, Paris, Île-de-France, France métropolitaine, 75015, France  \n",
       "57                                                                                  Quartier Necker, Paris 15e Arrondissement, Paris, Île-de-France, France métropolitaine, 75015, France  \n",
       "58                                          Bir-Hakeim, Boulevard de Grenelle, Quartier de Grenelle, Paris 15e Arrondissement, Paris, Île-de-France, France métropolitaine, 75015, France  \n",
       "59                                                                                Quartier de Javel, Paris 15e Arrondissement, Paris, Île-de-France, France métropolitaine, 75015, France  \n",
       "60                                                                                          Auteuil, Paris 16e Arrondissement, Paris, Île-de-France, France métropolitaine, 75016, France  \n",
       "61                                                  La Muette, Avenue Mozart, Quartier de la Muette, Paris 16e Arrondissement, Paris, Île-de-France, France métropolitaine, 75016, France  \n",
       "62                                    Porte Dauphine, Avenue Bugeaud, Quartier de la Porte-Dauphine, Paris 16e Arrondissement, Paris, Île-de-France, France métropolitaine, 75116, France  \n",
       "63                                                                             Quartier de Chaillot, Paris 16e Arrondissement, Paris, Île-de-France, France métropolitaine, 75783, France  \n",
       "64                                                                                       Les Ternes, Paris 17e Arrondissement, Paris, Île-de-France, France métropolitaine, 75017, France  \n",
       "65                                                                 Quartier de la Plaine-de-Monceau, Paris 17e Arrondissement, Paris, Île-de-France, France métropolitaine, 75017, France  \n",
       "66                                                                                      Batignolles, Paris 17e Arrondissement, Paris, Île-de-France, France métropolitaine, 75017, France  \n",
       "67                                                                           Quartier des Épinettes, Paris 17e Arrondissement, Paris, Île-de-France, France métropolitaine, 75017, France  \n",
       "68                                                                   Quartier des Grandes-Carrières, Paris 18e Arrondissement, Paris, Île-de-France, France métropolitaine, 75018, France  \n",
       "69                                                                                     Clignancourt, Paris 18e Arrondissement, Paris, Île-de-France, France métropolitaine, 75018, France  \n",
       "70                                                                       Quartier de la Goutte-d'Or, Paris 18e Arrondissement, Paris, Île-de-France, France métropolitaine, 75018, France  \n",
       "71                                                                          Quartier de la Chapelle, Paris 18e Arrondissement, Paris, Île-de-France, France métropolitaine, 75018, France  \n",
       "72                                                                          Quartier de la Villette, Paris 19e Arrondissement, Paris, Île-de-France, France métropolitaine, 75019, France  \n",
       "73                             Corentin Cariou, Avenue Corentin Cariou, Quartier du Pont-de-Flandre, Paris 19e Arrondissement, Paris, Île-de-France, France métropolitaine, 75019, France  \n",
       "74                                                                              Quartier d'Amérique, Paris 19e Arrondissement, Paris, Île-de-France, France métropolitaine, 75019, France  \n",
       "75                                     Colonel Fabien, Boulevard de la Villette, Quartier du Combat, Paris 19e Arrondissement, Paris, Île-de-France, France métropolitaine, 75019, France  \n",
       "76                                                                                       Belleville, Paris 20e Arrondissement, Paris, Île-de-France, France métropolitaine, 75020, France  \n",
       "77                                                                           Quartier Saint-Fargeau, Paris 20e Arrondissement, Paris, Île-de-France, France métropolitaine, 75020, France  \n",
       "78  Cimetière du Père-Lachaise, 8, Boulevard de Ménilmontant, Saint-Blaise, Quartier de la Roquette, Paris 11e Arrondissement, Paris, Île-de-France, France métropolitaine, 75011, France  \n",
       "79                                                                             Quartier de Charonne, Paris 20e Arrondissement, Paris, Île-de-France, France métropolitaine, 75020, France  "
      ]
     },
     "execution_count": 20,
     "metadata": {},
     "output_type": "execute_result"
    }
   ],
   "source": [
    "df_paris"
   ]
  },
  {
   "cell_type": "code",
   "execution_count": 17,
   "metadata": {
    "scrolled": true
   },
   "outputs": [],
   "source": [
    "df_paris.to_csv('paris_quarters_with_gps_coords.csv', index = False)"
   ]
  },
  {
   "cell_type": "raw",
   "metadata": {},
   "source": [
    "# import previously created dataframe in case geolocator isn't working\n",
    "df_paris = pd.read_csv(\"paris_quarters_with_gps_coords.csv\")\n",
    "df_paris"
   ]
  },
  {
   "cell_type": "markdown",
   "metadata": {},
   "source": [
    "### Plot Paris quarters on a map"
   ]
  },
  {
   "cell_type": "code",
   "execution_count": 23,
   "metadata": {},
   "outputs": [
    {
     "name": "stdout",
     "output_type": "stream",
     "text": [
      "Requirement already satisfied: folium in /home/jupyterlab/conda/envs/python/lib/python3.6/site-packages (0.5.0)\n",
      "Requirement already satisfied: requests in /home/jupyterlab/conda/envs/python/lib/python3.6/site-packages (from folium) (2.22.0)\n",
      "Requirement already satisfied: six in /home/jupyterlab/conda/envs/python/lib/python3.6/site-packages (from folium) (1.14.0)\n",
      "Requirement already satisfied: branca in /home/jupyterlab/conda/envs/python/lib/python3.6/site-packages (from folium) (0.3.1)\n",
      "Requirement already satisfied: jinja2 in /home/jupyterlab/conda/envs/python/lib/python3.6/site-packages (from folium) (2.11.1)\n",
      "Requirement already satisfied: urllib3!=1.25.0,!=1.25.1,<1.26,>=1.21.1 in /home/jupyterlab/conda/envs/python/lib/python3.6/site-packages (from requests->folium) (1.25.8)\n",
      "Requirement already satisfied: chardet<3.1.0,>=3.0.2 in /home/jupyterlab/conda/envs/python/lib/python3.6/site-packages (from requests->folium) (3.0.4)\n",
      "Requirement already satisfied: idna<2.9,>=2.5 in /home/jupyterlab/conda/envs/python/lib/python3.6/site-packages (from requests->folium) (2.8)\n",
      "Requirement already satisfied: certifi>=2017.4.17 in /home/jupyterlab/conda/envs/python/lib/python3.6/site-packages (from requests->folium) (2019.11.28)\n",
      "Requirement already satisfied: MarkupSafe>=0.23 in /home/jupyterlab/conda/envs/python/lib/python3.6/site-packages (from jinja2->folium) (1.1.1)\n"
     ]
    }
   ],
   "source": [
    "!pip install folium"
   ]
  },
  {
   "cell_type": "code",
   "execution_count": null,
   "metadata": {},
   "outputs": [],
   "source": [
    "from geopy.geocoders import Nominatim # convert an address into latitude and longitude values\n",
    "import folium # map rendering library\n",
    "\n",
    "geolocator = Nominatim(user_agent='parisberlin')\n",
    "paris = geolocator.geocode('Paris, France')\n",
    "print('The coordinates of {} are {}, {}.'.format(paris, paris.latitude, paris.longitude))\n",
    "\n",
    "map_paris = folium.Map(location=[paris.latitude, paris.longitude], zoom_start=13)\n",
    "\n",
    "# add markers to map\n",
    "for qrt, pc, lat, lng in zip(df_paris.quarter, df_paris.postcode, df_paris.latitude, df_paris.longitude):\n",
    "    label = '{}, {}'.format(qrt, pc)\n",
    "    label = folium.Popup(label, parse_html=True)\n",
    "    folium.CircleMarker(\n",
    "        [lat, lng],\n",
    "        radius=5,\n",
    "        popup=label,\n",
    "        color='blue',\n",
    "        fill=True,\n",
    "        fill_color='#3186cc',\n",
    "        fill_opacity=0.7,\n",
    "        parse_html=False).add_to(map_paris)\n",
    "    \n",
    "map_paris"
   ]
  },
  {
   "cell_type": "markdown",
   "metadata": {},
   "source": [
    "### Get the top 100 venues for each quarter within a 500m radius"
   ]
  },
  {
   "cell_type": "code",
   "execution_count": null,
   "metadata": {},
   "outputs": [],
   "source": [
    "CLIENT_ID = 'Y0TRUGNQWLFLPJEPMIS5QIHZYYRIL5YLTKBBFMJUFHHYU1ZB' # your Foursquare ID\n",
    "CLIENT_SECRET = '3SNL0QYABZR004UZTRVBTHF2PLIC2KKUL5D3JFGIHXBOAIPH' # your Foursquare Secret\n",
    "VERSION = '20180605' # Foursquare API version\n",
    "LIMIT = 100\n",
    "RADIUS = 500"
   ]
  },
  {
   "cell_type": "code",
   "execution_count": null,
   "metadata": {},
   "outputs": [],
   "source": [
    "import requests # library to handle requests\n",
    "import json # library to handle JSON files\n",
    "#from pandas.io.json import json_normalize # tranform JSON file into a pandas dataframe\n",
    "\n",
    "def getNearbyVenues(quarters, latitudes, longitudes, radius=RADIUS):\n",
    "    '''\n",
    "    This function gets the top 100 venues in a 500m radius for each latitude, longitude pair and returns them in a dataframe called nearby_venues.\n",
    "    '''\n",
    "    venues_list=[]\n",
    "    for qrt, lat, lng in zip(quarters, latitudes, longitudes):\n",
    "            \n",
    "        # create the API request URL\n",
    "        url = 'https://api.foursquare.com/v2/venues/explore?&client_id={}&client_secret={}&v={}&ll={},{}&radius={}&limit={}'.format(\n",
    "            CLIENT_ID, \n",
    "            CLIENT_SECRET, \n",
    "            VERSION, \n",
    "            lat, \n",
    "            lng, \n",
    "            radius, \n",
    "            LIMIT)\n",
    "            \n",
    "        # make the GET request\n",
    "        results = requests.get(url).json()[\"response\"]['groups'][0]['items']\n",
    "        \n",
    "        # return only relevant information for each nearby venue\n",
    "        venues_list.append([(\n",
    "            qrt, \n",
    "            lat, \n",
    "            lng, \n",
    "            v['venue']['name'], \n",
    "            v['venue']['location']['lat'], \n",
    "            v['venue']['location']['lng'],  \n",
    "            v['venue']['categories'][0]['name']) for v in results])\n",
    "\n",
    "    nearby_venues = pd.DataFrame([item for venue_list in venues_list for item in venue_list])\n",
    "    nearby_venues.columns = ['quarter', \n",
    "                  'quarter_latitude', \n",
    "                  'quarter_longitude', \n",
    "                  'venue', \n",
    "                  'venue_latitude', \n",
    "                  'venue_longitude', \n",
    "                  'venue_category']\n",
    "    \n",
    "    return(nearby_venues)"
   ]
  },
  {
   "cell_type": "code",
   "execution_count": null,
   "metadata": {
    "collapsed": false,
    "jupyter": {
     "outputs_hidden": false
    }
   },
   "outputs": [],
   "source": [
    "# Create a dataframe with top 100 venues for each postcode.\n",
    "paris_venues = getNearbyVenues(df_paris.quarter, df_paris.latitude, df_paris.longitude)"
   ]
  },
  {
   "cell_type": "code",
   "execution_count": null,
   "metadata": {
    "collapsed": false,
    "jupyter": {
     "outputs_hidden": false
    }
   },
   "outputs": [],
   "source": [
    "print(paris_venues.shape)\n",
    "#paris_venues[paris_venues['quarter']=='Belleville']\n",
    "paris_venues.head()"
   ]
  },
  {
   "cell_type": "code",
   "execution_count": null,
   "metadata": {},
   "outputs": [],
   "source": [
    "# Check number of venues for each quarter\n",
    "paris_venues.groupby('quarter').count()"
   ]
  },
  {
   "cell_type": "code",
   "execution_count": null,
   "metadata": {
    "collapsed": false,
    "jupyter": {
     "outputs_hidden": false
    },
    "scrolled": true
   },
   "outputs": [],
   "source": [
    "print('There are {} uniques categories.'.format(len(paris_venues['venue_category'].unique())))"
   ]
  },
  {
   "cell_type": "code",
   "execution_count": null,
   "metadata": {
    "collapsed": false,
    "jupyter": {
     "outputs_hidden": false
    }
   },
   "outputs": [],
   "source": []
  },
  {
   "cell_type": "markdown",
   "metadata": {},
   "source": [
    "Onehot code the venue categories for each postcode."
   ]
  },
  {
   "cell_type": "markdown",
   "metadata": {},
   "source": [
    "<a id='item3'></a>"
   ]
  },
  {
   "cell_type": "code",
   "execution_count": null,
   "metadata": {
    "collapsed": false,
    "jupyter": {
     "outputs_hidden": false
    }
   },
   "outputs": [],
   "source": [
    "# one hot encoding\n",
    "tor_onehot = pd.get_dummies(tor_venues[['Venue Category']], prefix=\"\", prefix_sep=\"\")\n",
    "\n",
    "# add postcode column back to dataframe\n",
    "tor_onehot['Postcode'] = tor_venues['Postcode'] \n",
    "\n",
    "# move postcode column to the first column\n",
    "fixed_columns = [tor_onehot.columns[-1]] + list(tor_onehot.columns[:-1])\n",
    "tor_onehot = tor_onehot[fixed_columns]\n",
    "\n",
    "tor_onehot.head()"
   ]
  },
  {
   "cell_type": "code",
   "execution_count": null,
   "metadata": {
    "collapsed": false,
    "jupyter": {
     "outputs_hidden": false
    }
   },
   "outputs": [],
   "source": [
    "tor_onehot.shape"
   ]
  },
  {
   "cell_type": "markdown",
   "metadata": {},
   "source": [
    "Group rows by postcode by taking the mean of the frequency of occurrence of each venue category."
   ]
  },
  {
   "cell_type": "code",
   "execution_count": null,
   "metadata": {
    "collapsed": false,
    "jupyter": {
     "outputs_hidden": false
    },
    "scrolled": true
   },
   "outputs": [],
   "source": [
    "tor_grouped = tor_onehot.groupby('Postcode').mean().reset_index()\n",
    "tor_grouped"
   ]
  },
  {
   "cell_type": "code",
   "execution_count": null,
   "metadata": {
    "collapsed": false,
    "jupyter": {
     "outputs_hidden": false
    }
   },
   "outputs": [],
   "source": [
    "tor_grouped.shape"
   ]
  },
  {
   "cell_type": "markdown",
   "metadata": {},
   "source": [
    "Print each postcode with its top 5 most common venues."
   ]
  },
  {
   "cell_type": "code",
   "execution_count": null,
   "metadata": {
    "collapsed": false,
    "jupyter": {
     "outputs_hidden": false
    },
    "scrolled": true
   },
   "outputs": [],
   "source": [
    "num_top_venues = 5\n",
    "\n",
    "for pc in tor_grouped['Postcode']:\n",
    "    print(\"----\"+pc+\"----\")\n",
    "    temp = tor_grouped[tor_grouped['Postcode'] == pc].T.reset_index()\n",
    "    temp.columns = ['venue','freq']\n",
    "    temp = temp.iloc[1:]\n",
    "    temp['freq'] = temp['freq'].astype(float)\n",
    "    temp = temp.round({'freq': 2})\n",
    "    print(temp.sort_values('freq', ascending=False).reset_index(drop=True).head(num_top_venues))\n",
    "    print('\\n')"
   ]
  },
  {
   "cell_type": "code",
   "execution_count": null,
   "metadata": {},
   "outputs": [],
   "source": [
    "def return_most_common_venues(row, num_top_venues):\n",
    "    '''\n",
    "    This function sorts the venues in descending order.\n",
    "    '''\n",
    "    row_categories = row.iloc[1:]\n",
    "    row_categories_sorted = row_categories.sort_values(ascending=False)\n",
    "    \n",
    "    return row_categories_sorted.index.values[0:num_top_venues]"
   ]
  },
  {
   "cell_type": "markdown",
   "metadata": {},
   "source": [
    "Create a new dataframe and display the top 10 venues for each postcode."
   ]
  },
  {
   "cell_type": "code",
   "execution_count": null,
   "metadata": {
    "collapsed": false,
    "jupyter": {
     "outputs_hidden": false
    }
   },
   "outputs": [],
   "source": [
    "num_top_venues = 10\n",
    "\n",
    "indicators = ['st', 'nd', 'rd']\n",
    "\n",
    "# create columns according to number of top venues\n",
    "columns = ['Postcode']\n",
    "for ind in np.arange(num_top_venues):\n",
    "    try:\n",
    "        columns.append('{}{} Most Common Venue'.format(ind+1, indicators[ind]))\n",
    "    except:\n",
    "        columns.append('{}th Most Common Venue'.format(ind+1))\n",
    "\n",
    "# create a new dataframe\n",
    "neighbourhoods_venues_sorted = pd.DataFrame(columns=columns)\n",
    "neighbourhoods_venues_sorted['Postcode'] = tor_grouped['Postcode']\n",
    "\n",
    "for ind in np.arange(tor_grouped.shape[0]):\n",
    "    neighbourhoods_venues_sorted.iloc[ind, 1:] = return_most_common_venues(tor_grouped.iloc[ind, :], num_top_venues)\n",
    "\n",
    "neighbourhoods_venues_sorted.head()"
   ]
  },
  {
   "cell_type": "markdown",
   "metadata": {},
   "source": [
    "## 4. Cluster the Neighborhoods"
   ]
  },
  {
   "cell_type": "code",
   "execution_count": null,
   "metadata": {},
   "outputs": [],
   "source": [
    "from sklearn.cluster import KMeans"
   ]
  },
  {
   "cell_type": "code",
   "execution_count": null,
   "metadata": {},
   "outputs": [],
   "source": [
    "import matplotlib.cm as cm\n",
    "import matplotlib.colors as colors"
   ]
  },
  {
   "cell_type": "markdown",
   "metadata": {},
   "source": [
    "Run *k*-means to cluster the neighborhood into 5 clusters."
   ]
  },
  {
   "cell_type": "code",
   "execution_count": null,
   "metadata": {
    "collapsed": false,
    "jupyter": {
     "outputs_hidden": false
    }
   },
   "outputs": [],
   "source": [
    "# set number of clusters\n",
    "kclusters = 5\n",
    "\n",
    "tor_grouped_clustering = tor_grouped.drop('Postcode', 1)\n",
    "\n",
    "# run k-means clustering\n",
    "kmeans = KMeans(n_clusters=kclusters, random_state=0).fit(tor_grouped_clustering)\n",
    "\n",
    "# check cluster labels generated for each row in the dataframe\n",
    "kmeans.labels_[0:10] "
   ]
  },
  {
   "cell_type": "markdown",
   "metadata": {},
   "source": [
    "Create a new dataframe that includes the cluster label as well as the top 10 venues for each neighborhood."
   ]
  },
  {
   "cell_type": "code",
   "execution_count": null,
   "metadata": {},
   "outputs": [],
   "source": [
    "# drop 'Cluster Labels' column if it already exists from a previous run\n",
    "neighbourhoods_venues_sorted.drop('Cluster Labels', axis=1, inplace=True)"
   ]
  },
  {
   "cell_type": "code",
   "execution_count": null,
   "metadata": {
    "collapsed": false,
    "jupyter": {
     "outputs_hidden": false
    }
   },
   "outputs": [],
   "source": [
    "# add clustering labels\n",
    "neighbourhoods_venues_sorted.insert(0, 'Cluster Labels', kmeans.labels_)\n",
    "\n",
    "tor_merged = df_paris\n",
    "\n",
    "# merge toronto_grouped with toronto_data to add latitude/longitude for each neighborhood\n",
    "tor_merged = tor_merged.join(neighbourhoods_venues_sorted.set_index('Postcode'), on='Postcode')\n",
    "\n",
    "tor_merged.head()"
   ]
  },
  {
   "cell_type": "code",
   "execution_count": null,
   "metadata": {},
   "outputs": [],
   "source": [
    "tor_merged.info()"
   ]
  },
  {
   "cell_type": "code",
   "execution_count": null,
   "metadata": {},
   "outputs": [],
   "source": [
    "# drop rows with no venue data\n",
    "indexNames = tor_merged[tor_merged['Cluster Labels'].isnull()].index\n",
    "tor_merged.drop(indexNames, inplace=True)\n",
    "tor_merged.info()"
   ]
  },
  {
   "cell_type": "markdown",
   "metadata": {},
   "source": [
    "Visualise the resulting clusters."
   ]
  },
  {
   "cell_type": "code",
   "execution_count": null,
   "metadata": {
    "collapsed": false,
    "jupyter": {
     "outputs_hidden": false
    }
   },
   "outputs": [],
   "source": [
    "# create map\n",
    "map_clusters = folium.Map(location=[latitude, longitude], zoom_start=11)\n",
    "\n",
    "# set color scheme for the clusters\n",
    "x = np.arange(kclusters)\n",
    "ys = [i + x + (i*x)**2 for i in range(kclusters)]\n",
    "colors_array = cm.rainbow(np.linspace(0, 1, len(ys)))\n",
    "rainbow = [colors.rgb2hex(i) for i in colors_array]\n",
    "\n",
    "# add markers to the map\n",
    "markers_colors = []\n",
    "for lat, lng, poi, cluster in zip(tor_merged['Latitude'], tor_merged['longitude'], tor_merged['Postcode'], tor_merged['Cluster Labels']):\n",
    "    label = folium.Popup(str(poi) + ' Cluster ' + str(cluster), parse_html=True)\n",
    "    folium.CircleMarker(\n",
    "        [lat, lng],\n",
    "        radius=5,\n",
    "        popup=label,\n",
    "        color=rainbow[int(cluster)-1],\n",
    "        fill=True,\n",
    "        fill_color=rainbow[int(cluster)-1],\n",
    "        fill_opacity=0.7).add_to(map_clusters)\n",
    "       \n",
    "map_clusters"
   ]
  },
  {
   "cell_type": "markdown",
   "metadata": {},
   "source": [
    "<a id='item5'></a>"
   ]
  },
  {
   "cell_type": "markdown",
   "metadata": {},
   "source": [
    "## 5. Examine Clusters"
   ]
  },
  {
   "cell_type": "markdown",
   "metadata": {},
   "source": [
    "#### Cluster 0"
   ]
  },
  {
   "cell_type": "code",
   "execution_count": null,
   "metadata": {
    "collapsed": false,
    "jupyter": {
     "outputs_hidden": false
    }
   },
   "outputs": [],
   "source": [
    "df_cluster0 = tor_merged.loc[tor_merged['Cluster Labels'] == 0, tor_merged.columns[[0] + list(range(5, tor_merged.shape[1]))]]\n",
    "df_cluster0"
   ]
  },
  {
   "cell_type": "markdown",
   "metadata": {},
   "source": [
    "#### Cluster 1"
   ]
  },
  {
   "cell_type": "code",
   "execution_count": null,
   "metadata": {
    "collapsed": false,
    "jupyter": {
     "outputs_hidden": false
    }
   },
   "outputs": [],
   "source": [
    "df_cluster1 = tor_merged.loc[tor_merged['Cluster Labels'] == 1, tor_merged.columns[[0] + list(range(5, tor_merged.shape[1]))]]\n",
    "df_cluster1"
   ]
  },
  {
   "cell_type": "markdown",
   "metadata": {},
   "source": [
    "#### Cluster 2"
   ]
  },
  {
   "cell_type": "code",
   "execution_count": null,
   "metadata": {
    "collapsed": false,
    "jupyter": {
     "outputs_hidden": false
    }
   },
   "outputs": [],
   "source": [
    "df_cluster2 = tor_merged.loc[tor_merged['Cluster Labels'] == 2, tor_merged.columns[[0] + list(range(5, tor_merged.shape[1]))]]\n",
    "df_cluster2"
   ]
  },
  {
   "cell_type": "markdown",
   "metadata": {},
   "source": [
    "#### Cluster 3"
   ]
  },
  {
   "cell_type": "code",
   "execution_count": null,
   "metadata": {
    "collapsed": false,
    "jupyter": {
     "outputs_hidden": false
    }
   },
   "outputs": [],
   "source": [
    "df_cluster3 = tor_merged.loc[tor_merged['Cluster Labels'] == 3, tor_merged.columns[[0] + list(range(5, tor_merged.shape[1]))]]\n",
    "df_cluster3"
   ]
  },
  {
   "cell_type": "markdown",
   "metadata": {},
   "source": [
    "#### Cluster 4"
   ]
  },
  {
   "cell_type": "code",
   "execution_count": null,
   "metadata": {},
   "outputs": [],
   "source": [
    "df_cluster4 = tor_merged.loc[tor_merged['Cluster Labels'] == 4, tor_merged.columns[[0] + list(range(5, tor_merged.shape[1]))]]\n",
    "df_cluster4"
   ]
  },
  {
   "cell_type": "code",
   "execution_count": null,
   "metadata": {},
   "outputs": [],
   "source": []
  }
 ],
 "metadata": {
  "kernelspec": {
   "display_name": "Python",
   "language": "python",
   "name": "conda-env-python-py"
  },
  "language_info": {
   "codemirror_mode": {
    "name": "ipython",
    "version": 3
   },
   "file_extension": ".py",
   "mimetype": "text/x-python",
   "name": "python",
   "nbconvert_exporter": "python",
   "pygments_lexer": "ipython3",
   "version": "3.6.7"
  }
 },
 "nbformat": 4,
 "nbformat_minor": 4
}
